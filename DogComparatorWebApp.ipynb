{
 "cells": [
  {
   "cell_type": "markdown",
   "metadata": {
    "colab_type": "text",
    "hide_input": false,
    "id": "SlHk9Z7QUA0E"
   },
   "source": [
    "# Is it a Shepherd or a Husky?\n",
    "\n"
   ]
  },
  {
   "cell_type": "markdown",
   "metadata": {},
   "source": [
    "Your life does not depend on this, also, they don't really look the same, but anyway, here it is: the Shepherd-Husky Discriminator! "
   ]
  },
  {
   "cell_type": "markdown",
   "metadata": {},
   "source": [
    "This binder is entirely based on the great Fastai course..."
   ]
  },
  {
   "cell_type": "code",
   "execution_count": 6,
   "metadata": {
    "ExecuteTime": {
     "end_time": "2020-08-05T18:14:39.454105Z",
     "start_time": "2020-08-05T18:14:36.901228Z"
    }
   },
   "outputs": [],
   "source": [
    "\n",
    "from fastai.vision import *\n",
    "path = Path()\n",
    "learn_inf = load_learner(path)"
   ]
  },
  {
   "cell_type": "code",
   "execution_count": 9,
   "metadata": {
    "ExecuteTime": {
     "end_time": "2020-08-05T18:17:01.279637Z",
     "start_time": "2020-08-05T18:17:01.248358Z"
    }
   },
   "outputs": [],
   "source": [
    "from fastai2.vision.all import PILImage\n",
    "import torchvision.transforms as T\n",
    "import ipywidgets as widgets\n",
    "\n",
    "def on_click(change):\n",
    "    \n",
    "    img = PILImage.create(btn_upload.data[-1])\n",
    "    img_tensor = T.ToTensor()(img)\n",
    "    img_fastai = Image(img_tensor)\n",
    "    out_pl.clear_output()\n",
    "    with out_pl: \n",
    "        display(img.to_thumb(128,128))\n",
    "        #pred,pred_idx,probs = learn_inf.predict(img)\n",
    "        pred,pred_idx,probs = learn_inf.predict(img_fastai)\n",
    "        lbl_pred.value = f'Prediction: {pred}; Probability:{probs[pred_idx]:.04f}'\n",
    "        \n",
    "lbl_pred = widgets.Label()        \n",
    "out_pl = widgets.Output()\n",
    "btn_upload = widgets.FileUpload()\n",
    "\n"
   ]
  },
  {
   "cell_type": "code",
   "execution_count": null,
   "metadata": {},
   "outputs": [],
   "source": [
    "btn_upload.observe(on_click, names=['data'])\n",
    "\n"
   ]
  },
  {
   "cell_type": "code",
   "execution_count": 11,
   "metadata": {
    "ExecuteTime": {
     "end_time": "2020-08-05T18:17:28.015673Z",
     "start_time": "2020-08-05T18:17:27.993021Z"
    }
   },
   "outputs": [
    {
     "data": {
      "application/vnd.jupyter.widget-view+json": {
       "model_id": "73832ea6bc404b27b4f13443637be32c",
       "version_major": 2,
       "version_minor": 0
      },
      "text/plain": [
       "VBox(children=(Label(value='Classify your dog!'), FileUpload(value={}, description='Upload'), Output(), Label(…"
      ]
     },
     "metadata": {},
     "output_type": "display_data"
    }
   ],
   "source": [
    "import warnings\n",
    "warnings.filterwarnings('ignore')\n",
    "display(widgets.VBox([widgets.Label('Classify your dog!'),btn_upload, out_pl, lbl_pred]))"
   ]
  },
  {
   "cell_type": "code",
   "execution_count": 12,
   "metadata": {
    "ExecuteTime": {
     "end_time": "2020-08-05T18:23:46.462202Z",
     "start_time": "2020-08-05T18:23:38.491188Z"
    }
   },
   "outputs": [
    {
     "name": "stdout",
     "output_type": "stream",
     "text": [
      "adal==1.2.4\r\n",
      "antlr4-python3-runtime==4.8\r\n",
      "appnope==0.1.0\r\n",
      "argon2-cffi==20.1.0\r\n",
      "async-generator==1.10\r\n",
      "attrs==19.3.0\r\n",
      "azure-cognitiveservices-search-imagesearch==2.0.0\r\n",
      "azure-common==1.1.25\r\n",
      "backcall==0.2.0\r\n",
      "beautifulsoup4==4.9.1\r\n",
      "bleach==3.1.5\r\n",
      "blis @ file:///opt/concourse/worker/volumes/live/f9b87811-6932-46c2-6826-5aef90cfc1ba/volume/cython-blis_1594246874825/work\r\n",
      "Bottleneck==1.3.2\r\n",
      "brotlipy==0.7.0\r\n",
      "catalogue==1.0.0\r\n",
      "certifi==2020.6.20\r\n",
      "cffi==1.14.0\r\n",
      "chardet==3.0.4\r\n",
      "cryptography==2.9.2\r\n",
      "cycler==0.10.0\r\n",
      "cymem==2.0.3\r\n",
      "dataclasses==0.6\r\n",
      "decorator==4.4.2\r\n",
      "defusedxml==0.6.0\r\n",
      "entrypoints==0.3\r\n",
      "fastai==1.0.61\r\n",
      "fastai2==0.0.21\r\n",
      "fastcore==0.1.21\r\n",
      "fastprogress==0.2.4\r\n",
      "fastscript==0.1.5\r\n",
      "future==0.18.2\r\n",
      "graphviz==0.14.1\r\n",
      "idna @ file:///tmp/build/80754af9/idna_1593446292537/work\r\n",
      "importlib-metadata @ file:///opt/concourse/worker/volumes/live/290b74d5-e5f3-47ff-7257-17b3c9ccecab/volume/importlib-metadata_1593446478206/work\r\n",
      "imutils==0.5.3\r\n",
      "ipykernel==5.3.4\r\n",
      "ipython==7.17.0\r\n",
      "ipython-genutils==0.2.0\r\n",
      "ipywidgets==7.5.1\r\n",
      "isodate==0.6.0\r\n",
      "jedi==0.17.2\r\n",
      "Jinja2==2.11.2\r\n",
      "joblib==0.16.0\r\n",
      "jsonschema @ file:///opt/concourse/worker/volumes/live/eb4c8c81-7935-47c9-5666-5999d5c44d03/volume/jsonschema_1594303899222/work\r\n",
      "jupyter-client==6.1.6\r\n",
      "jupyter-core==4.6.3\r\n",
      "jupyter-server==0.1.1\r\n",
      "jupyterlab-pygments==0.1.1\r\n",
      "kiwisolver==1.2.0\r\n",
      "MarkupSafe==1.1.1\r\n",
      "matplotlib @ file:///opt/concourse/worker/volumes/live/59859a4b-794b-4c9f-51fd-a0ac1d1ab595/volume/matplotlib-base_1592846058943/work\r\n",
      "mistune==0.8.4\r\n",
      "mkl-fft==1.1.0\r\n",
      "mkl-random==1.1.1\r\n",
      "mkl-service==2.3.0\r\n",
      "msrest==0.6.18\r\n",
      "msrestazure==0.6.4\r\n",
      "murmurhash==1.0.2\r\n",
      "nbconvert==5.6.1\r\n",
      "nbdev==0.2.20\r\n",
      "nbformat==5.0.7\r\n",
      "notebook==6.1.0\r\n",
      "numexpr==2.7.1\r\n",
      "numpy @ file:///opt/concourse/worker/volumes/live/c646f6b9-b398-438d-7dc7-c7142e0ba44b/volume/numpy_and_numpy_base_1596235504536/work\r\n",
      "oauthlib==3.1.0\r\n",
      "olefile==0.46\r\n",
      "opencv-contrib-python==4.3.0.36\r\n",
      "packaging==20.4\r\n",
      "pandas @ file:///opt/concourse/worker/volumes/live/5ef6147e-ea92-446e-4065-0c8c7435293f/volume/pandas_1592841676717/work\r\n",
      "pandocfilters==1.4.2\r\n",
      "parso==0.7.1\r\n",
      "pexpect==4.8.0\r\n",
      "pickleshare==0.7.5\r\n",
      "Pillow @ file:///opt/concourse/worker/volumes/live/be1e8a56-c4be-4ffe-4fa7-5a0e9c460b1a/volume/pillow_1594307312933/work\r\n",
      "plac @ file:///opt/concourse/worker/volumes/live/b396e4ca-d114-4800-41a2-71d753ee926d/volume/plac_1594261971168/work\r\n",
      "preshed==3.0.2\r\n",
      "prometheus-client==0.8.0\r\n",
      "prompt-toolkit==3.0.5\r\n",
      "ptyprocess==0.6.0\r\n",
      "pycparser @ file:///tmp/build/80754af9/pycparser_1594388511720/work\r\n",
      "Pygments==2.6.1\r\n",
      "PyJWT==1.7.1\r\n",
      "pyOpenSSL @ file:///tmp/build/80754af9/pyopenssl_1594392929924/work\r\n",
      "pyparsing==2.4.7\r\n",
      "pyrsistent==0.16.0\r\n",
      "PySocks @ file:///opt/concourse/worker/volumes/live/85a5b906-0e08-41d9-6f59-084cee4e9492/volume/pysocks_1594394636991/work\r\n",
      "python-dateutil==2.8.1\r\n",
      "pytz==2020.1\r\n",
      "PyYAML==5.3.1\r\n",
      "pyzmq==19.0.2\r\n",
      "requests @ file:///tmp/build/80754af9/requests_1592841827918/work\r\n",
      "requests-oauthlib==1.3.0\r\n",
      "scikit-learn==0.23.1\r\n",
      "scipy @ file:///opt/concourse/worker/volumes/live/7f5e51f8-abf3-4409-4c56-a4fb14cc9869/volume/scipy_1593104185999/work\r\n",
      "Send2Trash==1.5.0\r\n",
      "sentencepiece==0.1.91\r\n",
      "six==1.15.0\r\n",
      "soupsieve==2.0.1\r\n",
      "spacy @ file:///opt/concourse/worker/volumes/live/33d1523e-bc3e-429e-64d8-f4ee2e047dc8/volume/spacy_1594305077182/work\r\n",
      "srsly==1.0.2\r\n",
      "terminado==0.8.3\r\n",
      "testpath==0.4.4\r\n",
      "thinc @ file:///opt/concourse/worker/volumes/live/d0d401d5-f84a-4764-440e-d67893479983/volume/thinc_1594251950205/work\r\n",
      "threadpoolctl==2.1.0\r\n",
      "torch==1.6.0\r\n",
      "torchvision==0.7.0\r\n",
      "tornado==6.0.4\r\n",
      "tqdm @ file:///tmp/build/80754af9/tqdm_1593446365756/work\r\n",
      "traitlets==4.3.3\r\n",
      "urllib3==1.25.9\r\n",
      "voila==0.1.21\r\n",
      "wasabi==0.6.0\r\n",
      "wcwidth==0.2.5\r\n",
      "webencodings==0.5.1\r\n",
      "widgetsnbextension==3.5.1\r\n",
      "zipp==3.1.0\r\n"
     ]
    }
   ],
   "source": [
    "!pip freeze\n"
   ]
  },
  {
   "cell_type": "code",
   "execution_count": null,
   "metadata": {},
   "outputs": [],
   "source": []
  }
 ],
 "metadata": {
  "colab": {
   "collapsed_sections": [
    "3kUSy3GFUA2-",
    "MexJ4c6lUA2_",
    "XHf5ZdkzUA3E",
    "LY06LahzUA3R",
    "7YWDDIexUA3d"
   ],
   "name": "Copy of DogComparator3.ipynb",
   "provenance": [
    {
     "file_id": "1ogW-20hM_L62AJhiw5bIvl0oOLTzOLpM",
     "timestamp": 1596639910335
    },
    {
     "file_id": "https://github.com/fastai/course-v3/blob/master/nbs/dl1/lesson2-download.ipynb",
     "timestamp": 1596560835679
    }
   ],
   "toc_visible": true
  },
  "kernelspec": {
   "display_name": "Python 3",
   "language": "python",
   "name": "python3"
  },
  "language_info": {
   "codemirror_mode": {
    "name": "ipython",
    "version": 3
   },
   "file_extension": ".py",
   "mimetype": "text/x-python",
   "name": "python",
   "nbconvert_exporter": "python",
   "pygments_lexer": "ipython3",
   "version": "3.8.3"
  },
  "latex_envs": {
   "LaTeX_envs_menu_present": true,
   "autocomplete": true,
   "bibliofile": "biblio.bib",
   "cite_by": "apalike",
   "current_citInitial": 1,
   "eqLabelWithNumbers": true,
   "eqNumInitial": 1,
   "hotkeys": {
    "equation": "Ctrl-E",
    "itemize": "Ctrl-I"
   },
   "labels_anchors": false,
   "latex_user_defs": false,
   "report_style_numbering": false,
   "user_envs_cfg": false
  },
  "widgets": {
   "application/vnd.jupyter.widget-state+json": {
    "0e0abbcdb00444879627822fa17bad0f": {
     "model_module": "@jupyter-widgets/controls",
     "model_name": "HTMLModel",
     "state": {
      "_dom_classes": [],
      "_model_module": "@jupyter-widgets/controls",
      "_model_module_version": "1.5.0",
      "_model_name": "HTMLModel",
      "_view_count": null,
      "_view_module": "@jupyter-widgets/controls",
      "_view_module_version": "1.5.0",
      "_view_name": "HTMLView",
      "description": "",
      "description_tooltip": null,
      "layout": "IPY_MODEL_313bf168a4914d00b624c43fbe8314fa",
      "placeholder": "​",
      "style": "IPY_MODEL_a26b4e412e03485cb8e10f4eba6fb3a7",
      "value": " 83.3M/83.3M [00:01&lt;00:00, 75.5MB/s]"
     }
    },
    "0ef7ef8488f34f55adca16edd6db063e": {
     "model_module": "@jupyter-widgets/base",
     "model_name": "LayoutModel",
     "state": {
      "_model_module": "@jupyter-widgets/base",
      "_model_module_version": "1.2.0",
      "_model_name": "LayoutModel",
      "_view_count": null,
      "_view_module": "@jupyter-widgets/base",
      "_view_module_version": "1.2.0",
      "_view_name": "LayoutView",
      "align_content": null,
      "align_items": null,
      "align_self": null,
      "border": null,
      "bottom": null,
      "display": null,
      "flex": null,
      "flex_flow": null,
      "grid_area": null,
      "grid_auto_columns": null,
      "grid_auto_flow": null,
      "grid_auto_rows": null,
      "grid_column": null,
      "grid_gap": null,
      "grid_row": null,
      "grid_template_areas": null,
      "grid_template_columns": null,
      "grid_template_rows": null,
      "height": null,
      "justify_content": null,
      "justify_items": null,
      "left": null,
      "margin": null,
      "max_height": null,
      "max_width": null,
      "min_height": null,
      "min_width": null,
      "object_fit": null,
      "object_position": null,
      "order": null,
      "overflow": null,
      "overflow_x": null,
      "overflow_y": null,
      "padding": null,
      "right": null,
      "top": null,
      "visibility": null,
      "width": null
     }
    },
    "29576e712b5f47ecb72e3dab4b83eae8": {
     "model_module": "@jupyter-widgets/controls",
     "model_name": "FloatProgressModel",
     "state": {
      "_dom_classes": [],
      "_model_module": "@jupyter-widgets/controls",
      "_model_module_version": "1.5.0",
      "_model_name": "FloatProgressModel",
      "_view_count": null,
      "_view_module": "@jupyter-widgets/controls",
      "_view_module_version": "1.5.0",
      "_view_name": "ProgressView",
      "bar_style": "success",
      "description": "100%",
      "description_tooltip": null,
      "layout": "IPY_MODEL_6eb1aa9bdf6e49fa8e67e9169f505627",
      "max": 87306240,
      "min": 0,
      "orientation": "horizontal",
      "style": "IPY_MODEL_c3bf466b24ea4a019a2fe744c2cbe830",
      "value": 87306240
     }
    },
    "313bf168a4914d00b624c43fbe8314fa": {
     "model_module": "@jupyter-widgets/base",
     "model_name": "LayoutModel",
     "state": {
      "_model_module": "@jupyter-widgets/base",
      "_model_module_version": "1.2.0",
      "_model_name": "LayoutModel",
      "_view_count": null,
      "_view_module": "@jupyter-widgets/base",
      "_view_module_version": "1.2.0",
      "_view_name": "LayoutView",
      "align_content": null,
      "align_items": null,
      "align_self": null,
      "border": null,
      "bottom": null,
      "display": null,
      "flex": null,
      "flex_flow": null,
      "grid_area": null,
      "grid_auto_columns": null,
      "grid_auto_flow": null,
      "grid_auto_rows": null,
      "grid_column": null,
      "grid_gap": null,
      "grid_row": null,
      "grid_template_areas": null,
      "grid_template_columns": null,
      "grid_template_rows": null,
      "height": null,
      "justify_content": null,
      "justify_items": null,
      "left": null,
      "margin": null,
      "max_height": null,
      "max_width": null,
      "min_height": null,
      "min_width": null,
      "object_fit": null,
      "object_position": null,
      "order": null,
      "overflow": null,
      "overflow_x": null,
      "overflow_y": null,
      "padding": null,
      "right": null,
      "top": null,
      "visibility": null,
      "width": null
     }
    },
    "6eb1aa9bdf6e49fa8e67e9169f505627": {
     "model_module": "@jupyter-widgets/base",
     "model_name": "LayoutModel",
     "state": {
      "_model_module": "@jupyter-widgets/base",
      "_model_module_version": "1.2.0",
      "_model_name": "LayoutModel",
      "_view_count": null,
      "_view_module": "@jupyter-widgets/base",
      "_view_module_version": "1.2.0",
      "_view_name": "LayoutView",
      "align_content": null,
      "align_items": null,
      "align_self": null,
      "border": null,
      "bottom": null,
      "display": null,
      "flex": null,
      "flex_flow": null,
      "grid_area": null,
      "grid_auto_columns": null,
      "grid_auto_flow": null,
      "grid_auto_rows": null,
      "grid_column": null,
      "grid_gap": null,
      "grid_row": null,
      "grid_template_areas": null,
      "grid_template_columns": null,
      "grid_template_rows": null,
      "height": null,
      "justify_content": null,
      "justify_items": null,
      "left": null,
      "margin": null,
      "max_height": null,
      "max_width": null,
      "min_height": null,
      "min_width": null,
      "object_fit": null,
      "object_position": null,
      "order": null,
      "overflow": null,
      "overflow_x": null,
      "overflow_y": null,
      "padding": null,
      "right": null,
      "top": null,
      "visibility": null,
      "width": null
     }
    },
    "a26b4e412e03485cb8e10f4eba6fb3a7": {
     "model_module": "@jupyter-widgets/controls",
     "model_name": "DescriptionStyleModel",
     "state": {
      "_model_module": "@jupyter-widgets/controls",
      "_model_module_version": "1.5.0",
      "_model_name": "DescriptionStyleModel",
      "_view_count": null,
      "_view_module": "@jupyter-widgets/base",
      "_view_module_version": "1.2.0",
      "_view_name": "StyleView",
      "description_width": ""
     }
    },
    "c3bf466b24ea4a019a2fe744c2cbe830": {
     "model_module": "@jupyter-widgets/controls",
     "model_name": "ProgressStyleModel",
     "state": {
      "_model_module": "@jupyter-widgets/controls",
      "_model_module_version": "1.5.0",
      "_model_name": "ProgressStyleModel",
      "_view_count": null,
      "_view_module": "@jupyter-widgets/base",
      "_view_module_version": "1.2.0",
      "_view_name": "StyleView",
      "bar_color": null,
      "description_width": "initial"
     }
    },
    "e53b9a4456414b3085a00182f8d5b3d1": {
     "model_module": "@jupyter-widgets/controls",
     "model_name": "HBoxModel",
     "state": {
      "_dom_classes": [],
      "_model_module": "@jupyter-widgets/controls",
      "_model_module_version": "1.5.0",
      "_model_name": "HBoxModel",
      "_view_count": null,
      "_view_module": "@jupyter-widgets/controls",
      "_view_module_version": "1.5.0",
      "_view_name": "HBoxView",
      "box_style": "",
      "children": [
       "IPY_MODEL_29576e712b5f47ecb72e3dab4b83eae8",
       "IPY_MODEL_0e0abbcdb00444879627822fa17bad0f"
      ],
      "layout": "IPY_MODEL_0ef7ef8488f34f55adca16edd6db063e"
     }
    }
   }
  }
 },
 "nbformat": 4,
 "nbformat_minor": 1
}
